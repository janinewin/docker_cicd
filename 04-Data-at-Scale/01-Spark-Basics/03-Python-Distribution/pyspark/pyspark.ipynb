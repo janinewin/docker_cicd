{
 "cells": [
  {
   "cell_type": "markdown",
   "metadata": {
    "application/vnd.databricks.v1+cell": {
     "cellMetadata": {},
     "inputWidgets": {},
     "nuid": "3423260d-e218-45fb-a131-8406b0f348a7",
     "showTitle": false,
     "title": ""
    }
   },
   "source": [
    "# 0️⃣ Introduction\n",
    "We are going to work on a dataset from the Instacart Market Basket Analysis Kaggle competition. See the [data](https://www.kaggle.com/competitions/instacart-market-basket-analysis/data) page on Kaggle for more information on the different tables. The tables are relatively small, so an in-memory transformations library like Pandas might make more sense. This combined with the fact that the community version of Databricks is quite limited in terms of compute might make the transformations a bit slower then you would expect. Nevertheless, we are here to get familiar with the syntax of Pyspark, so lets get started! 🚀"
   ]
  },
  {
   "cell_type": "code",
   "execution_count": null,
   "metadata": {
    "application/vnd.databricks.v1+cell": {
     "cellMetadata": {},
     "inputWidgets": {},
     "nuid": "c979ede4-decb-49e4-9903-6283d7605eaa",
     "showTitle": false,
     "title": ""
    }
   },
   "outputs": [],
   "source": [
    "# import the libraries\n",
    "import pyspark\n",
    "from pyspark.sql import functions as F"
   ]
  },
  {
   "cell_type": "markdown",
   "metadata": {
    "application/vnd.databricks.v1+cell": {
     "cellMetadata": {},
     "inputWidgets": {},
     "nuid": "1eefe8b7-2998-444b-94f9-fe25f94d338b",
     "showTitle": false,
     "title": ""
    }
   },
   "source": [
    "# 1️⃣ Loading the data\n",
    "⏱ This should take about 1.23 minutes. The data is loaded from Amazon S3."
   ]
  },
  {
   "cell_type": "code",
   "execution_count": null,
   "metadata": {
    "application/vnd.databricks.v1+cell": {
     "cellMetadata": {},
     "inputWidgets": {},
     "nuid": "2fcbe1d1-28af-4cf6-88bd-236bbfc25038",
     "showTitle": false,
     "title": ""
    }
   },
   "outputs": [],
   "source": [
    "orders_large = spark.read.csv('s3://wagon-public-datasets/data-engineering/W3D3-processing/data/orders.csv', header='true', \n",
    "                      inferSchema='true')\n",
    "orderContents_large = spark.read.csv('s3://wagon-public-datasets/data-engineering/W3D3-processing/data/order_products__prior.csv', header='true', \n",
    "                      inferSchema='true')\n",
    "products_large = spark.read.csv('s3://wagon-public-datasets/data-engineering/W3D3-processing/data/products.csv', header='true', \n",
    "                      inferSchema='true')"
   ]
  },
  {
   "attachments": {},
   "cell_type": "markdown",
   "metadata": {
    "application/vnd.databricks.v1+cell": {
     "cellMetadata": {},
     "inputWidgets": {},
     "nuid": "1eefe8b7-2998-444b-94f9-fe25f94d338b",
     "showTitle": false,
     "title": ""
    }
   },
   "source": [
    "😅 This is a bit much data to develop with so lets create dataframes with 1/500th of the data to develop with and then you can apply functions to the larger data when you are ready!"
   ]
  },
  {
   "cell_type": "code",
   "execution_count": null,
   "metadata": {},
   "outputs": [],
   "source": [
    "split_weights = [1.0] * 500\n",
    "orders = orders_large.randomSplit(split_weights)[0]\n",
    "orderContents = orderContents_large.randomSplit(split_weights)[0]\n",
    "products = products_large.randomSplit(split_weights)[0]"
   ]
  },
  {
   "cell_type": "markdown",
   "metadata": {
    "application/vnd.databricks.v1+cell": {
     "cellMetadata": {},
     "inputWidgets": {},
     "nuid": "95ad1901-a397-4678-8e16-d089fa0e7ece",
     "showTitle": false,
     "title": ""
    }
   },
   "source": [
    "# 2️⃣ Prepping data\n",
    "Lets get a little bit familiar with the pyspark syntax. 📃 Use the documentation of Pyspark to help you."
   ]
  },
  {
   "cell_type": "markdown",
   "metadata": {
    "application/vnd.databricks.v1+cell": {
     "cellMetadata": {},
     "inputWidgets": {},
     "nuid": "90a5f96c-6012-486e-a231-b5cfd2968649",
     "showTitle": false,
     "title": ""
    }
   },
   "source": [
    "❓**Aisles**\n",
    "\n",
    "1️⃣ Load in the aisles table\n",
    "\n",
    "2️⃣ Show the first 5 rows \n",
    "\n",
    "3️⃣ Print the schema\n",
    "\n",
    "4️⃣ Cast data to correct types\n",
    "\n",
    "5️⃣ Save as a temporary view\n",
    "\n",
    "6️⃣ Select the data from the temporary view using SQL"
   ]
  },
  {
   "cell_type": "code",
   "execution_count": null,
   "metadata": {
    "application/vnd.databricks.v1+cell": {
     "cellMetadata": {},
     "inputWidgets": {},
     "nuid": "961b0267-3322-4627-86d7-e965af8eadf9",
     "showTitle": false,
     "title": ""
    }
   },
   "outputs": [],
   "source": [
    "aisles = spark.read.csv('s3://wagon-public-datasets/data-engineering/W3D3-processing/data/aisles.csv', header='true')\n",
    "pass  # YOUR CODE HERE"
   ]
  },
  {
   "cell_type": "markdown",
   "metadata": {
    "application/vnd.databricks.v1+cell": {
     "cellMetadata": {},
     "inputWidgets": {},
     "nuid": "25a0e966-c875-4594-8673-97b003281be8",
     "showTitle": false,
     "title": ""
    }
   },
   "source": [
    "6️⃣ Select the data from the temporary view using SQL"
   ]
  },
  {
   "cell_type": "code",
   "execution_count": null,
   "metadata": {
    "application/vnd.databricks.v1+cell": {
     "cellMetadata": {
      "implicitDf": true
     },
     "inputWidgets": {},
     "nuid": "619aff34-1f07-4758-b4b5-cf67a792a7c1",
     "showTitle": false,
     "title": ""
    }
   },
   "outputs": [],
   "source": []
  },
  {
   "cell_type": "markdown",
   "metadata": {
    "application/vnd.databricks.v1+cell": {
     "cellMetadata": {},
     "inputWidgets": {},
     "nuid": "d9cbfd34-1e25-436a-9e37-3f93b7820dea",
     "showTitle": false,
     "title": ""
    }
   },
   "source": [
    "# 2️⃣ Analysis"
   ]
  },
  {
   "cell_type": "markdown",
   "metadata": {
    "application/vnd.databricks.v1+cell": {
     "cellMetadata": {},
     "inputWidgets": {},
     "nuid": "50a339c0-64e5-4e72-b2d3-66e015a6b5cf",
     "showTitle": false,
     "title": ""
    }
   },
   "source": [
    "### Get the historical orders of each user \n",
    "❓ Filter the orders table on the data where `eval_set` is equal `prior`. These are the historical baskets for all users."
   ]
  },
  {
   "cell_type": "code",
   "execution_count": null,
   "metadata": {
    "application/vnd.databricks.v1+cell": {
     "cellMetadata": {},
     "inputWidgets": {},
     "nuid": "c8728aa3-f823-488a-a301-7aee2c4f2532",
     "showTitle": false,
     "title": ""
    }
   },
   "outputs": [],
   "source": [
    "pass  # YOUR CODE HERE"
   ]
  },
  {
   "cell_type": "markdown",
   "metadata": {
    "application/vnd.databricks.v1+cell": {
     "cellMetadata": {},
     "inputWidgets": {},
     "nuid": "49b2c80d-81cc-4325-901d-72610ac9e553",
     "showTitle": false,
     "title": ""
    }
   },
   "source": [
    "### Average basket size\n",
    "❓ Calculate the mean size of the historical baskets that you filtered out here 👆 for all users. Join the historical baskets with the orderContents table and calculate the average basket size."
   ]
  },
  {
   "cell_type": "code",
   "execution_count": null,
   "metadata": {
    "application/vnd.databricks.v1+cell": {
     "cellMetadata": {},
     "inputWidgets": {},
     "nuid": "2743d973-be97-4f59-8beb-41f145611ac5",
     "showTitle": false,
     "title": ""
    }
   },
   "outputs": [],
   "source": [
    "pass  # YOUR CODE HERE"
   ]
  },
  {
   "cell_type": "markdown",
   "metadata": {
    "application/vnd.databricks.v1+cell": {
     "cellMetadata": {},
     "inputWidgets": {},
     "nuid": "dca6e77c-df79-4bce-b738-01ef5c7d3985",
     "showTitle": false,
     "title": ""
    }
   },
   "source": [
    "### Total number of distinct items bought\n",
    "❓Calculate the number of distinct items bought by each user"
   ]
  },
  {
   "cell_type": "code",
   "execution_count": null,
   "metadata": {
    "application/vnd.databricks.v1+cell": {
     "cellMetadata": {},
     "inputWidgets": {},
     "nuid": "47155578-ca90-446a-a85e-829573b82630",
     "showTitle": false,
     "title": ""
    }
   },
   "outputs": [],
   "source": [
    "pass  # YOUR CODE HERE"
   ]
  },
  {
   "cell_type": "markdown",
   "metadata": {
    "application/vnd.databricks.v1+cell": {
     "cellMetadata": {},
     "inputWidgets": {},
     "nuid": "c279ebe4-c0fc-4d18-b03d-fa51d0e3b188",
     "showTitle": false,
     "title": ""
    }
   },
   "source": [
    "### What was the most recent order of each user and which products did this order contain? \n",
    "\n",
    "❓ 1️⃣ Get the last basket of each user from the orders table\n",
    "\n",
    "❓ 2️⃣ Get the products from each of these orders from the orderContents table"
   ]
  },
  {
   "cell_type": "code",
   "execution_count": null,
   "metadata": {
    "application/vnd.databricks.v1+cell": {
     "cellMetadata": {},
     "inputWidgets": {},
     "nuid": "094703be-f4f0-41ba-ad17-b3a4fe1cf9b3",
     "showTitle": false,
     "title": ""
    }
   },
   "outputs": [],
   "source": [
    "pass  # YOUR CODE HERE"
   ]
  },
  {
   "cell_type": "markdown",
   "metadata": {
    "application/vnd.databricks.v1+cell": {
     "cellMetadata": {},
     "inputWidgets": {},
     "nuid": "5481b08d-dbc7-434f-8c16-b66e969ee961",
     "showTitle": false,
     "title": ""
    }
   },
   "source": [
    "### Can you find the gluten-free products and return those?\n",
    "Products that contain something like gluten/wheat free are considered gluten-free. Knowing which users have previously ordered gluten-free products could be useful for product recommendations in future machine learning models.\n",
    "\n",
    "❓ 1️⃣ Identify the gluten-free products by looking at the `product_name` column in the `products` table"
   ]
  },
  {
   "cell_type": "code",
   "execution_count": null,
   "metadata": {
    "application/vnd.databricks.v1+cell": {
     "cellMetadata": {},
     "inputWidgets": {},
     "nuid": "084ab19b-0bd0-428a-a09c-75c767f31f8d",
     "showTitle": false,
     "title": ""
    }
   },
   "outputs": [],
   "source": [
    "pass  # YOUR CODE HERE"
   ]
  },
  {
   "cell_type": "markdown",
   "metadata": {
    "application/vnd.databricks.v1+cell": {
     "cellMetadata": {},
     "inputWidgets": {},
     "nuid": "a8d3e7d0-90d3-4d31-803c-a3210576b01a",
     "showTitle": false,
     "title": ""
    }
   },
   "source": [
    "❓ 2️⃣ Use the `orders` and `orderContents` tables to identify the users that have previously ordered a gluten free product. Return a table with all the user id's and a column with a binary value indicating whether an user has bought a gluten free product."
   ]
  },
  {
   "cell_type": "code",
   "execution_count": null,
   "metadata": {
    "application/vnd.databricks.v1+cell": {
     "cellMetadata": {},
     "inputWidgets": {},
     "nuid": "de05a662-f5f2-4109-9c04-5913e54f32f0",
     "showTitle": false,
     "title": ""
    }
   },
   "outputs": [],
   "source": [
    "pass  # YOUR CODE HERE"
   ]
  }
 ],
 "metadata": {
  "kernelspec": {
   "display_name": "Python 3",
   "language": "python",
   "name": "python3"
  }
 },
 "nbformat": 4,
 "nbformat_minor": 0
}
