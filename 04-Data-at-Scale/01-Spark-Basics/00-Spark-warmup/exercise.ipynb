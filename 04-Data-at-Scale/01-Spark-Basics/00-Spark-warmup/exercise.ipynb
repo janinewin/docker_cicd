{
 "cells": [
  {
   "cell_type": "markdown",
   "metadata": {},
   "source": [
    "## Spark warmup"
   ]
  },
  {
   "cell_type": "markdown",
   "metadata": {},
   "source": [
    "🎯 The goal of the exercise is to learn pyspark syntax and will involve 5 questions tested directly in the notebook!"
   ]
  },
  {
   "cell_type": "markdown",
   "metadata": {},
   "source": [
    "## Setup"
   ]
  },
  {
   "cell_type": "markdown",
   "metadata": {},
   "source": [
    "The next cell will create the spark session and load the data in for you"
   ]
  },
  {
   "cell_type": "code",
   "execution_count": null,
   "metadata": {},
   "outputs": [],
   "source": [
    "from pyspark.sql import SparkSession\n",
    "\n",
    "spark = SparkSession.builder.appName(\"Olist Exercises\").getOrCreate()\n",
    "\n",
    "df_customers = spark.read.csv(\"data/olist_customers_dataset.csv\", header=True, inferSchema=True)\n",
    "df_geolocation = spark.read.csv(\"data/olist_geolocation_dataset.csv\", header=True, inferSchema=True)\n",
    "df_items = spark.read.csv(\"data/olist_order_items_dataset.csv\", header=True, inferSchema=True)\n",
    "df_payments = spark.read.csv(\"data/olist_order_payments_dataset.csv\", header=True, inferSchema=True)\n",
    "df_reviews = spark.read.csv(\"data/olist_order_reviews_dataset.csv\", header=True, inferSchema=True)\n",
    "df_orders = spark.read.csv(\"data/olist_orders_dataset.csv\", header=True, inferSchema=True)\n",
    "df_products = spark.read.csv(\"data/olist_products_dataset.csv\", header=True, inferSchema=True)\n",
    "df_sellers = spark.read.csv(\"data/olist_sellers_dataset.csv\", header=True, inferSchema=True)\n",
    "df_category_translation = spark.read.csv(\"data/product_category_name_translation.csv\", header=True, inferSchema=True)\n"
   ]
  },
  {
   "cell_type": "markdown",
   "metadata": {},
   "source": [
    "**Question:** Caculate the count of each of the order statuses save the result as `df_order_status_count`\n"
   ]
  },
  {
   "cell_type": "code",
   "execution_count": null,
   "metadata": {
    "tags": [
     "challengify"
    ]
   },
   "outputs": [],
   "source": [
    "# YOUR CODE HERE"
   ]
  },
  {
   "cell_type": "markdown",
   "metadata": {},
   "source": [
    "🧪 **Testing** Run the cell below"
   ]
  },
  {
   "cell_type": "code",
   "execution_count": null,
   "metadata": {},
   "outputs": [],
   "source": [
    "from nbresult import ChallengeResult\n",
    "\n",
    "pandas_df_order_status_count = df_order_status_count.toPandas()\n",
    "\n",
    "result = ChallengeResult('order_status_count',\n",
    "    order_status_count_df=pandas_df_order_status_count\n",
    ")\n",
    "result.write()\n",
    "print(result.check())\n"
   ]
  },
  {
   "cell_type": "markdown",
   "metadata": {},
   "source": [
    "**Question:** Calculate the Customer Lifetime Value for each customer. CLV is calculated as the sum of the payment values for each customer. Save the result in a variable called df_clv. The clv column should be named `CLV`.\n"
   ]
  },
  {
   "cell_type": "code",
   "execution_count": null,
   "metadata": {
    "tags": [
     "challengify"
    ]
   },
   "outputs": [],
   "source": [
    "# YOUR CODE HERE"
   ]
  },
  {
   "cell_type": "markdown",
   "metadata": {},
   "source": [
    "🧪 **Testing** Run the cell below"
   ]
  },
  {
   "cell_type": "code",
   "execution_count": null,
   "metadata": {},
   "outputs": [],
   "source": [
    "from nbresult import ChallengeResult\n",
    "\n",
    "df_clv_pd = df_clv.toPandas()\n",
    "\n",
    "result = ChallengeResult('customer_clv',\n",
    "    df_clv_pd=df_clv_pd\n",
    ")\n",
    "result.write()\n",
    "print(result.check())\n"
   ]
  },
  {
   "cell_type": "markdown",
   "metadata": {},
   "source": [
    "**Question:** Identify the sellers who generate the highest total revenue. Save the result in a DataFrame called `df_seller_revenue`. The total revenue column should be named `Total_Revenue`."
   ]
  },
  {
   "cell_type": "code",
   "execution_count": null,
   "metadata": {
    "tags": [
     "challengify"
    ]
   },
   "outputs": [],
   "source": [
    "# YOUR CODE HERE"
   ]
  },
  {
   "cell_type": "code",
   "execution_count": null,
   "metadata": {},
   "outputs": [],
   "source": [
    "from nbresult import ChallengeResult\n",
    "\n",
    "df_seller_revenue_pd = df_seller_revenue.toPandas()\n",
    "\n",
    "result = ChallengeResult('seller_revenue',\n",
    "    df_seller_revenue_pd=df_seller_revenue_pd\n",
    ")\n",
    "result.write()\n",
    "print(result.check())\n"
   ]
  },
  {
   "cell_type": "markdown",
   "metadata": {},
   "source": [
    "**Question:** Identify the top 10 product categories with the highest rate of canceled or unavailable orders. Save the result in a DataFrame called df_high_cancel_categories. The column for total instances should be named `Total_Canceled_Unavailable`\n"
   ]
  },
  {
   "cell_type": "code",
   "execution_count": null,
   "metadata": {
    "tags": [
     "challengify"
    ]
   },
   "outputs": [],
   "source": [
    "# YOUR CODE HERE"
   ]
  },
  {
   "cell_type": "code",
   "execution_count": null,
   "metadata": {},
   "outputs": [],
   "source": [
    "from nbresult import ChallengeResult\n",
    "\n",
    "df_high_cancel_categories_pd = df_high_cancel_categories.toPandas()\n",
    "\n",
    "result = ChallengeResult('high_cancel_categories',\n",
    "    df_high_cancel_categories_pd=df_high_cancel_categories_pd\n",
    ")\n",
    "result.write()\n",
    "print(result.check())\n"
   ]
  },
  {
   "cell_type": "markdown",
   "metadata": {},
   "source": [
    "**Question:** Calculate the average extended delivery time for each product category. The extended delivery time is the actual delivery time minus the estimated delivery time. Save the result in a variable called `df_delivery_time`. The `Avg_Extended_Delivery` column should be sorted in descending order and limited to the top 10 product categories with the highest average extended delivery time."
   ]
  },
  {
   "cell_type": "code",
   "execution_count": null,
   "metadata": {
    "tags": [
     "challengify"
    ]
   },
   "outputs": [],
   "source": [
    "# YOUR CODE HERE"
   ]
  },
  {
   "cell_type": "code",
   "execution_count": null,
   "metadata": {},
   "outputs": [],
   "source": [
    "from nbresult import ChallengeResult\n",
    "\n",
    "df_delivery_time_pd = df_delivery_time.toPandas()\n",
    "\n",
    "result = ChallengeResult('delivery_time',\n",
    "    df_delivery_time_pd=df_delivery_time_pd\n",
    ")\n",
    "result.write()\n",
    "print(result.check())\n"
   ]
  },
  {
   "cell_type": "markdown",
   "metadata": {},
   "source": [
    "## Finished 🏁"
   ]
  },
  {
   "cell_type": "markdown",
   "metadata": {},
   "source": [
    "Now you have finished the notebook you should have a good grounding of how to use pyspark!\n",
    "\n",
    "You can run \n",
    "\n",
    "```bash\n",
    "make test\n",
    "```\n",
    "\n",
    "and move on to the next exercise!"
   ]
  }
 ],
 "metadata": {
  "kernelspec": {
   "display_name": "Python 3",
   "language": "python",
   "name": "python3"
  }
 },
 "nbformat": 4,
 "nbformat_minor": 2
}
