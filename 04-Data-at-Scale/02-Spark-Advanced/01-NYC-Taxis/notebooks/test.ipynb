{
 "cells": [
  {
   "cell_type": "code",
   "execution_count": null,
   "metadata": {},
   "outputs": [],
   "source": [
    "from taxi_spark.functions.session import get_spark_session\n",
    "import requests\n"
   ]
  },
  {
   "cell_type": "code",
   "execution_count": null,
   "metadata": {},
   "outputs": [],
   "source": [
    "spark = get_spark_session()\n"
   ]
  },
  {
   "cell_type": "code",
   "execution_count": null,
   "metadata": {},
   "outputs": [],
   "source": [
    "response = requests.get(\"https://d37ci6vzurychx.cloudfront.net/trip-data/yellow_tripdata_2009-01.parquet\")\n",
    "\n",
    "with open(\"/tmp/temp.parquet\", \"wb\") as f:\n",
    "    f.write(response.content)\n",
    "\n",
    "df = spark.read.parquet(\"/tmp/temp.parquet\")\n"
   ]
  },
  {
   "cell_type": "code",
   "execution_count": null,
   "metadata": {},
   "outputs": [],
   "source": []
  }
 ],
 "metadata": {
  "kernelspec": {
   "display_name": "Python 3",
   "language": "python",
   "name": "python3"
  }
 },
 "nbformat": 4,
 "nbformat_minor": 2
}
