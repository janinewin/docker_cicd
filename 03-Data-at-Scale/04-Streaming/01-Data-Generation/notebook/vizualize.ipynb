{
 "cells": [
  {
   "cell_type": "code",
   "execution_count": 1,
   "id": "4d82b255-baa6-414a-910b-58559a546e69",
   "metadata": {},
   "outputs": [],
   "source": [
    "\n",
    "from scipy import stats\n",
    "import datetime\n",
    "import time"
   ]
  },
  {
   "cell_type": "code",
   "execution_count": 2,
   "id": "d5ff6670-230c-470b-bb15-44e2f8173d5d",
   "metadata": {},
   "outputs": [],
   "source": [
    "import pandas as pd"
   ]
  },
  {
   "cell_type": "code",
   "execution_count": 3,
   "id": "9ad65fd7-02e3-46b1-ab13-782c6df74901",
   "metadata": {},
   "outputs": [],
   "source": [
    "url = \"https://wagon-public-datasets.s3.amazonaws.com/deep_learning_datasets/weather_every_three_hours_engineered.csv\"\n",
    "df = pd.read_csv(url).drop(columns = ['Unnamed: 0'])\n",
    "df"
   ]
  },
  {
   "cell_type": "code",
   "execution_count": 4,
   "id": "feadd572-f911-44cf-9ab3-cd6e545c632c",
   "metadata": {},
   "outputs": [],
   "source": [
    "sensorNames = ['AtmP','Temp','Airtight','H2OC']\n",
    "sensorCenterLines = [989.21,9.45,1216.02,9.64]\n",
    "standardDeviation = [8.35,8.42,39.98,4.23]\n",
    "\n"
   ]
  },
  {
   "cell_type": "code",
   "execution_count": 54,
   "id": "f2529c3f-2efa-41f7-ba98-f8ca66204ed1",
   "metadata": {},
   "outputs": [],
   "source": [
    "time_stamp_start = datetime.datetime(2022,11,25,9,0,0)\n",
    "time_step = datetime.timedelta(seconds=1)"
   ]
  },
  {
   "cell_type": "code",
   "execution_count": 55,
   "id": "880c2564-2740-4e89-9aa3-c1f0feeaf3bc",
   "metadata": {},
   "outputs": [],
   "source": [
    "l_sensors = []\n",
    "for i in range(100):\n",
    "    for pos in range(0,4):\n",
    "        l_sensors.append({\n",
    "            'sensor': sensorNames[pos],\n",
    "            'reading':stats.truncnorm.rvs(-1,1,loc = sensorCenterLines[pos], scale = standardDeviation[pos]),\n",
    "            'timeStamp':time_stamp_start + i* time_step\n",
    "        })\n",
    "        \n",
    "df_sensors = pd.DataFrame(l_sensors)\n",
    "df_sensors"
   ]
  },
  {
   "cell_type": "code",
   "execution_count": 56,
   "id": "a8072163-7558-47c6-85ca-e794febe7dfa",
   "metadata": {},
   "outputs": [],
   "source": [
    "df_datas = pd.pivot_table(df_sensors,values = 'reading',index=\"timeStamp\",columns=\"sensor\",aggfunc='mean')\n",
    "df_datas"
   ]
  },
  {
   "cell_type": "code",
   "execution_count": 57,
   "id": "e7581649-4c53-4c16-aec1-9cacce5570cd",
   "metadata": {},
   "outputs": [],
   "source": [
    "df_datas.plot(subplots = True);"
   ]
  },
  {
   "cell_type": "code",
   "execution_count": 58,
   "id": "7b5786d5-ca83-4728-b087-0b089354d18c",
   "metadata": {},
   "outputs": [],
   "source": [
    "time_stamp_start = datetime.datetime(2022,11,25,9,0,0)\n",
    "time_step = datetime.timedelta(seconds=1)\n"
   ]
  },
  {
   "cell_type": "code",
   "execution_count": 59,
   "id": "332d34f4-d627-4d6b-b7e8-614d821e5b85",
   "metadata": {},
   "outputs": [],
   "source": [
    "import matplotlib.pyplot as plt\n",
    "import numpy as np"
   ]
  },
  {
   "cell_type": "code",
   "execution_count": 60,
   "id": "984aa040-f547-4ff8-b1ac-fb8412da55be",
   "metadata": {},
   "outputs": [],
   "source": [
    "mu, sigma = 0, 0.5 # mean and standard deviation\n",
    "s = np.abs(np.random.normal(mu, sigma, 1000))\n",
    "\n",
    "plt.hist(s)"
   ]
  },
  {
   "cell_type": "code",
   "execution_count": 62,
   "id": "03794faf-17ac-4b17-b089-434d2fda1e7c",
   "metadata": {},
   "outputs": [],
   "source": [
    "l_sensors_latency = []\n",
    "for i in range(1500):\n",
    "    for pos in range(0,4):\n",
    "        l_sensors_latency.append({\n",
    "            'sensor': sensorNames[pos],\n",
    "            'reading':stats.truncnorm.rvs(-1,1,loc = sensorCenterLines[pos], scale = standardDeviation[pos]),\n",
    "            'timeStamp':time_stamp_start + i* time_step + datetime.timedelta(seconds=abs(random.gauss(0,0.5)))\n",
    "        })\n",
    "        \n",
    "df_sensors_latency = pd.DataFrame(l_sensors_latency)\n",
    "df_sensors_latency"
   ]
  },
  {
   "cell_type": "code",
   "execution_count": 21,
   "id": "b5fd33cb",
   "metadata": {},
   "outputs": [],
   "source": [
    "df_datas_latency = pd.pivot_table(df_sensors_latency,values = 'reading',index=\"timeStamp\",columns=\"sensor\",aggfunc='mean')\n",
    "df_datas_latency"
   ]
  },
  {
   "cell_type": "code",
   "execution_count": 64,
   "id": "1f554232",
   "metadata": {},
   "outputs": [],
   "source": [
    "df_sensors_latency.to_csv('data/sensors_latency.csv',index=False)"
   ]
  },
  {
   "cell_type": "code",
   "execution_count": 23,
   "id": "847d7f99",
   "metadata": {},
   "outputs": [],
   "source": [
    "df_datas_latency.plot(subplots = True);"
   ]
  },
  {
   "cell_type": "code",
   "execution_count": 31,
   "id": "cfbeab81",
   "metadata": {},
   "outputs": [],
   "source": [
    "df_datas_latency = df_datas_latency.resample('15s').mean()"
   ]
  },
  {
   "cell_type": "code",
   "execution_count": 33,
   "id": "578adcce",
   "metadata": {},
   "outputs": [],
   "source": [
    "df_datas_latency.plot(subplots=True);"
   ]
  },
  {
   "cell_type": "code",
   "execution_count": 46,
   "id": "10018be4",
   "metadata": {},
   "outputs": [],
   "source": [
    "df_sensors_latency = df_sensors_latency.groupby([pd.Grouper(key='timeStamp',freq='15s'),'sensor']).mean().reset_index()\n"
   ]
  },
  {
   "cell_type": "code",
   "execution_count": 49,
   "id": "6ab13e19",
   "metadata": {},
   "outputs": [],
   "source": [
    "df_datas_latency_grouped = pd.pivot_table(df_sensors_latency,values=\"reading\",index=\"timeStamp\",columns=\"sensor\")"
   ]
  },
  {
   "cell_type": "code",
   "execution_count": 53,
   "id": "d32a4d5c",
   "metadata": {},
   "outputs": [],
   "source": [
    "df_datas_latency_grouped.plot(subplots=True);"
   ]
  },
  {
   "cell_type": "code",
   "execution_count": null,
   "id": "23a9027e",
   "metadata": {},
   "outputs": [],
   "source": []
  },
  {
   "cell_type": "code",
   "execution_count": 7,
   "id": "80cf5b13",
   "metadata": {},
   "outputs": [],
   "source": [
    "import pandas as pd\n",
    "import datetime"
   ]
  },
  {
   "cell_type": "code",
   "execution_count": 8,
   "id": "ffde2188",
   "metadata": {},
   "outputs": [],
   "source": [
    "\n",
    "time = datetime.datetime.now()\n",
    "df_sensors_latency = pd.read_csv(\"data/sensors_latency.csv\")\n",
    "df_sensors_latency['timeStamp']= pd.to_datetime(df_sensors_latency['timeStamp'])\n",
    "df_sensors_latency = df_sensors_latency.groupby([pd.Grouper(key='timeStamp',freq='15s'),'sensor']).mean().reset_index()\n",
    "l_data = df_sensors_latency.to_json()\n",
    "with open(\"data/output_pandas.txt\",'w') as f:\n",
    "    f.writelines(l_data)\n",
    "\n",
    "print(datetime.datetime.now()-time)"
   ]
  },
  {
   "cell_type": "code",
   "execution_count": null,
   "id": "86eee52b",
   "metadata": {},
   "outputs": [],
   "source": []
  }
 ],
 "metadata": {
  "kernelspec": {
   "display_name": "Python 3 (ipykernel)",
   "language": "python",
   "name": "python3"
  },
  "language_info": {
   "codemirror_mode": {
    "name": "ipython",
    "version": 3
   },
   "file_extension": ".py",
   "mimetype": "text/x-python",
   "name": "python",
   "nbconvert_exporter": "python",
   "pygments_lexer": "ipython3",
   "version": "3.8.14 (default, Nov 15 2022, 22:22:28) \n[GCC 9.5.0]"
  },
  "vscode": {
   "interpreter": {
    "hash": "c7f0e5f183bdbebbb6190b5c7f0526716c7289ada656ba7292eb42042edf7ca4"
   }
  }
 },
 "nbformat": 4,
 "nbformat_minor": 5
}
