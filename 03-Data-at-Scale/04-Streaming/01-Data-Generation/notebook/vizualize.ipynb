{
 "cells": [
  {
   "cell_type": "code",
   "execution_count": null,
   "metadata": {},
   "outputs": [],
   "source": [
    "\n",
    "from scipy import stats\n",
    "import datetime\n",
    "import time"
   ]
  },
  {
   "cell_type": "code",
   "execution_count": null,
   "metadata": {},
   "outputs": [],
   "source": [
    "import pandas as pd"
   ]
  },
  {
   "cell_type": "code",
   "execution_count": null,
   "metadata": {},
   "outputs": [],
   "source": [
    "url = \"https://wagon-public-datasets.s3.amazonaws.com/deep_learning_datasets/weather_every_three_hours_engineered.csv\"\n",
    "df = pd.read_csv(url).drop(columns = ['Unnamed: 0'])\n",
    "df"
   ]
  },
  {
   "cell_type": "code",
   "execution_count": null,
   "metadata": {},
   "outputs": [],
   "source": [
    "sensorNames = ['AtmP','Temp','Airtight','H2OC']\n",
    "sensorCenterLines = [989.21,9.45,1216.02,9.64]\n",
    "standardDeviation = [8.35,8.42,39.98,4.23]\n",
    "\n"
   ]
  },
  {
   "cell_type": "code",
   "execution_count": null,
   "metadata": {},
   "outputs": [],
   "source": [
    "time_stamp_start = datetime.datetime(2022,11,25,9,0,0)\n",
    "time_step = datetime.timedelta(seconds=1)"
   ]
  },
  {
   "cell_type": "code",
   "execution_count": null,
   "metadata": {},
   "outputs": [],
   "source": [
    "l_sensors = []\n",
    "for i in range(100):\n",
    "    for pos in range(0,4):\n",
    "        l_sensors.append({\n",
    "            'sensor': sensorNames[pos],\n",
    "            'reading':stats.truncnorm.rvs(-1,1,loc = sensorCenterLines[pos], scale = standardDeviation[pos]),\n",
    "            'timeStamp':time_stamp_start + i* time_step\n",
    "        })\n",
    "        \n",
    "df_sensors = pd.DataFrame(l_sensors)\n",
    "df_sensors"
   ]
  },
  {
   "cell_type": "code",
   "execution_count": null,
   "metadata": {},
   "outputs": [],
   "source": [
    "df_datas = pd.pivot_table(df_sensors,values = 'reading',index=\"timeStamp\",columns=\"sensor\",aggfunc='mean')\n",
    "df_datas"
   ]
  },
  {
   "cell_type": "code",
   "execution_count": null,
   "metadata": {},
   "outputs": [],
   "source": [
    "df_datas.plot(subplots = True);"
   ]
  },
  {
   "cell_type": "code",
   "execution_count": null,
   "metadata": {},
   "outputs": [],
   "source": [
    "time_stamp_start = datetime.datetime(2022,11,25,9,0,0)\n",
    "time_step = datetime.timedelta(seconds=1)\n"
   ]
  },
  {
   "cell_type": "code",
   "execution_count": null,
   "metadata": {},
   "outputs": [],
   "source": [
    "import matplotlib.pyplot as plt\n",
    "import numpy as np"
   ]
  },
  {
   "cell_type": "code",
   "execution_count": null,
   "metadata": {},
   "outputs": [],
   "source": [
    "mu, sigma = 0, 0.5 # mean and standard deviation\n",
    "s = np.abs(np.random.normal(mu, sigma, 1000))\n",
    "\n",
    "plt.hist(s)"
   ]
  },
  {
   "cell_type": "code",
   "execution_count": null,
   "metadata": {},
   "outputs": [],
   "source": [
    "l_sensors_latency = []\n",
    "for i in range(1500):\n",
    "    for pos in range(0,4):\n",
    "        l_sensors_latency.append({\n",
    "            'sensor': sensorNames[pos],\n",
    "            'reading':stats.truncnorm.rvs(-1,1,loc = sensorCenterLines[pos], scale = standardDeviation[pos]),\n",
    "            'timeStamp':time_stamp_start + i* time_step + datetime.timedelta(seconds=abs(random.gauss(0,0.5)))\n",
    "        })\n",
    "        \n",
    "df_sensors_latency = pd.DataFrame(l_sensors_latency)\n",
    "df_sensors_latency"
   ]
  },
  {
   "cell_type": "code",
   "execution_count": null,
   "metadata": {},
   "outputs": [],
   "source": [
    "df_datas_latency = pd.pivot_table(df_sensors_latency,values = 'reading',index=\"timeStamp\",columns=\"sensor\",aggfunc='mean')\n",
    "df_datas_latency"
   ]
  },
  {
   "cell_type": "code",
   "execution_count": null,
   "metadata": {},
   "outputs": [],
   "source": [
    "df_sensors_latency.to_csv('data/sensors_latency.csv',index=False)"
   ]
  },
  {
   "cell_type": "code",
   "execution_count": null,
   "metadata": {},
   "outputs": [],
   "source": [
    "df_datas_latency.plot(subplots = True);"
   ]
  },
  {
   "cell_type": "code",
   "execution_count": null,
   "metadata": {},
   "outputs": [],
   "source": [
    "df_datas_latency = df_datas_latency.resample('15s').mean()"
   ]
  },
  {
   "cell_type": "code",
   "execution_count": null,
   "metadata": {},
   "outputs": [],
   "source": [
    "df_datas_latency.plot(subplots=True);"
   ]
  },
  {
   "cell_type": "code",
   "execution_count": null,
   "metadata": {},
   "outputs": [],
   "source": [
    "df_sensors_latency = df_sensors_latency.groupby([pd.Grouper(key='timeStamp',freq='15s'),'sensor']).mean().reset_index()\n"
   ]
  },
  {
   "cell_type": "code",
   "execution_count": null,
   "metadata": {},
   "outputs": [],
   "source": [
    "df_datas_latency_grouped = pd.pivot_table(df_sensors_latency,values=\"reading\",index=\"timeStamp\",columns=\"sensor\")"
   ]
  },
  {
   "cell_type": "code",
   "execution_count": null,
   "metadata": {},
   "outputs": [],
   "source": [
    "df_datas_latency_grouped.plot(subplots=True);"
   ]
  },
  {
   "cell_type": "code",
   "execution_count": null,
   "metadata": {},
   "outputs": [],
   "source": []
  },
  {
   "cell_type": "code",
   "execution_count": null,
   "metadata": {},
   "outputs": [],
   "source": [
    "import pandas as pd\n",
    "import datetime"
   ]
  },
  {
   "cell_type": "code",
   "execution_count": null,
   "metadata": {},
   "outputs": [],
   "source": [
    "\n",
    "time = datetime.datetime.now()\n",
    "df_sensors_latency = pd.read_csv(\"data/sensors_latency.csv\")\n",
    "df_sensors_latency['timeStamp']= pd.to_datetime(df_sensors_latency['timeStamp'])\n",
    "df_sensors_latency = df_sensors_latency.groupby([pd.Grouper(key='timeStamp',freq='15s'),'sensor']).mean().reset_index()\n",
    "l_data = df_sensors_latency.to_json()\n",
    "with open(\"data/output_pandas.txt\",'w') as f:\n",
    "    f.writelines(l_data)\n",
    "\n",
    "print(datetime.datetime.now()-time)"
   ]
  },
  {
   "cell_type": "code",
   "execution_count": null,
   "metadata": {},
   "outputs": [],
   "source": []
  }
 ],
 "metadata": {
  "kernelspec": {
   "display_name": "Python 3",
   "language": "python",
   "name": "python3"
  }
 },
 "nbformat": 4,
 "nbformat_minor": 5
}
