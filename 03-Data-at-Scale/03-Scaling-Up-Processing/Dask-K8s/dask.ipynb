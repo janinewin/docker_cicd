{
 "cells": [
  {
   "cell_type": "markdown",
   "id": "9a1e9937",
   "metadata": {},
   "source": [
    "# K8s Dask notebook"
   ]
  },
  {
   "cell_type": "markdown",
   "id": "56feeed7",
   "metadata": {},
   "source": [
    "## 1️⃣ Import and access the cluster"
   ]
  },
  {
   "cell_type": "code",
   "execution_count": 2,
   "id": "bb4c2dd4",
   "metadata": {
    "scrolled": true
   },
   "outputs": [],
   "source": [
    "from dask_kubernetes import HelmCluster\n",
    "cluster = HelmCluster(release_name=\"dask-release\")\n",
    "cluster"
   ]
  },
  {
   "cell_type": "markdown",
   "id": "58f63112",
   "metadata": {},
   "source": [
    "You can scale the cluster from inside dask!"
   ]
  },
  {
   "cell_type": "code",
   "execution_count": 44,
   "id": "9390b4e5",
   "metadata": {},
   "outputs": [],
   "source": [
    "# cluster.scale(4)"
   ]
  },
  {
   "cell_type": "markdown",
   "id": "ba0b8b22",
   "metadata": {},
   "source": [
    "## 2️⃣ Plug the cluster to the client"
   ]
  },
  {
   "cell_type": "markdown",
   "id": "dc9f676a",
   "metadata": {},
   "source": [
    "Run the code below 👇 to add the **cluster** to the client. You will see some warnings about mismatched versions ⚠️. This is okay provided that it is not a library we are trying to use when we distribute our code!"
   ]
  },
  {
   "cell_type": "code",
   "execution_count": 42,
   "id": "e9f77e8a",
   "metadata": {},
   "outputs": [],
   "source": [
    "from distributed import Client\n",
    "\n",
    "client = Client(cluster)"
   ]
  },
  {
   "cell_type": "markdown",
   "id": "1ebc1df7",
   "metadata": {},
   "source": [
    "### 🧪 Testing our cluster"
   ]
  },
  {
   "cell_type": "markdown",
   "id": "077fbfd9",
   "metadata": {},
   "source": [
    "The block below runs an arbitary piece of code on an a dask array start by scaling the cluster down to **1** then up to our maximum of **6**. (make sure to wait for the **pods** to be ready to check the actual speed difference!) Don't forget to also checkout the dashboard we opened earlier to see how the tasks are distributed!"
   ]
  },
  {
   "cell_type": "code",
   "execution_count": 43,
   "id": "4916086d",
   "metadata": {},
   "outputs": [],
   "source": [
    "%%time\n",
    "import dask.array as da\n",
    "x = da.random.random((10000, 10000), chunks=(1000, 1000))\n",
    "y = x + x.T\n",
    "z = y[::2, 5000:].mean(axis=1)\n",
    "z.compute()"
   ]
  },
  {
   "cell_type": "markdown",
   "id": "0465a372",
   "metadata": {},
   "source": [
    "## 3️⃣ Utilising our power 💪"
   ]
  },
  {
   "cell_type": "markdown",
   "id": "8777c428",
   "metadata": {},
   "source": [
    "🎯 Our goal is to get all of the summary statistics from pandas `describe` from the yellow taxi data `2020-2021`."
   ]
  },
  {
   "cell_type": "markdown",
   "id": "8bfc80f2",
   "metadata": {},
   "source": [
    "### 3.1 One file"
   ]
  },
  {
   "cell_type": "code",
   "execution_count": 36,
   "id": "4d504ee3",
   "metadata": {},
   "outputs": [],
   "source": [
    "import pandas as pd"
   ]
  },
  {
   "cell_type": "code",
   "execution_count": 37,
   "id": "33052366",
   "metadata": {},
   "outputs": [],
   "source": [
    "%%time\n",
    "df = pd.read_parquet(\"https://d37ci6vzurychx.cloudfront.net/trip-data/yellow_tripdata_2022-01.parquet\")"
   ]
  },
  {
   "cell_type": "code",
   "execution_count": 38,
   "id": "1250f67c",
   "metadata": {},
   "outputs": [],
   "source": [
    "%%time\n",
    "description = df.describe()"
   ]
  },
  {
   "cell_type": "code",
   "execution_count": 40,
   "id": "b4b2a7f5",
   "metadata": {},
   "outputs": [],
   "source": [
    "round(description, 2)"
   ]
  },
  {
   "cell_type": "markdown",
   "id": "8cf791fe",
   "metadata": {},
   "source": [
    "Now you can see how long it takes us to access one of the **twenty four** parquet files we need!"
   ]
  },
  {
   "cell_type": "markdown",
   "id": "25627951",
   "metadata": {},
   "source": [
    "### 3.2 Pure pandas"
   ]
  },
  {
   "cell_type": "markdown",
   "id": "0a46c276",
   "metadata": {},
   "source": [
    "Here is the code we used for **naive** pandas version checkout the run time **no need to run it yourself!**"
   ]
  },
  {
   "cell_type": "code",
   "execution_count": 16,
   "id": "a942b246",
   "metadata": {},
   "outputs": [],
   "source": [
    "import pandas as pd"
   ]
  },
  {
   "cell_type": "code",
   "execution_count": 41,
   "id": "c20b8a44",
   "metadata": {},
   "outputs": [],
   "source": [
    "monthly_data = []"
   ]
  },
  {
   "cell_type": "code",
   "execution_count": 42,
   "id": "4d08f83e",
   "metadata": {},
   "outputs": [],
   "source": [
    "%%time \n",
    "for i in range(1,13):\n",
    "    if i < 10:\n",
    "        i = f\"0{i}\"\n",
    "    df = pd.read_parquet(f\"https://d37ci6vzurychx.cloudfront.net/trip-data/yellow_tripdata_2021-{i}.parquet\")\n",
    "    monthly_data.append(df.describe())\n",
    "    df = pd.read_parquet(f\"https://d37ci6vzurychx.cloudfront.net/trip-data/yellow_tripdata_2020-{i}.parquet\")\n",
    "    monthly_data.append(df.describe())"
   ]
  },
  {
   "cell_type": "code",
   "execution_count": 34,
   "id": "e823ad3a",
   "metadata": {},
   "outputs": [],
   "source": [
    "round(sum(monthly_data)/24)"
   ]
  },
  {
   "cell_type": "markdown",
   "id": "9fffe55c",
   "metadata": {},
   "source": [
    "### 3.3 DASK 💪"
   ]
  },
  {
   "cell_type": "markdown",
   "id": "dd3cae80",
   "metadata": {},
   "source": [
    "First import **dask**"
   ]
  },
  {
   "cell_type": "code",
   "execution_count": 17,
   "id": "74312c65",
   "metadata": {},
   "outputs": [],
   "source": [
    "import dask"
   ]
  },
  {
   "cell_type": "markdown",
   "id": "d293f890",
   "metadata": {},
   "source": [
    "Then we decorate the functions we want to distrbute with `@dask.delayed`, here we have created two seperate tasks to help you distinguish them on the dashboard!"
   ]
  },
  {
   "cell_type": "code",
   "execution_count": 25,
   "id": "25a7c0ab",
   "metadata": {},
   "outputs": [],
   "source": [
    "monthly_data = []\n",
    "\n",
    "@dask.delayed\n",
    "def twenty_twenty_monthly_describe(i: int):\n",
    "    if i < 10:\n",
    "        i = f\"0{i}\"\n",
    "    df = pd.read_parquet(f\"https://d37ci6vzurychx.cloudfront.net/trip-data/yellow_tripdata_2020-{i}.parquet\")\n",
    "    return df.describe()\n",
    "\n",
    "@dask.delayed\n",
    "def twenty_twenty_one_monthly_describe(i: int):\n",
    "    if i < 10:\n",
    "        i = f\"0{i}\"\n",
    "    df = pd.read_parquet(f\"https://d37ci6vzurychx.cloudfront.net/trip-data/yellow_tripdata_2021-{i}.parquet\")\n",
    "    return df.describe()"
   ]
  },
  {
   "cell_type": "markdown",
   "id": "67fe2b2d",
   "metadata": {},
   "source": [
    "We then create a similar list, but it is strangely fast even for **k8s** checkout the list!"
   ]
  },
  {
   "cell_type": "code",
   "execution_count": 26,
   "id": "85a4c3ea",
   "metadata": {},
   "outputs": [],
   "source": [
    "for i in range(1,13):\n",
    "    monthly_data.append(twenty_twenty_monthly_describe(i))\n",
    "    monthly_data.append(twenty_twenty_one_monthly_describe(i))\n"
   ]
  },
  {
   "cell_type": "code",
   "execution_count": 27,
   "id": "1a2f5b90",
   "metadata": {},
   "outputs": [],
   "source": [
    "monthly_data"
   ]
  },
  {
   "cell_type": "markdown",
   "id": "108873d2",
   "metadata": {},
   "source": [
    "They are all these delayed objects, **dask** is lazy until we call compute and then works out the result of these objects! Don't forget to watch the dashboard and see dask tear through this task!"
   ]
  },
  {
   "cell_type": "code",
   "execution_count": 28,
   "id": "0edda85b",
   "metadata": {},
   "outputs": [],
   "source": [
    "%%time\n",
    "monthly_data = dask.compute(monthly_data)"
   ]
  },
  {
   "cell_type": "code",
   "execution_count": 33,
   "id": "1d019305",
   "metadata": {},
   "outputs": [],
   "source": [
    "round(sum(monthly_data[0])/24,2)"
   ]
  },
  {
   "cell_type": "markdown",
   "id": "1714fe58",
   "metadata": {},
   "source": [
    "# Headback to the readme if you want to explore some more **dask** or delete your **cluster** now!"
   ]
  },
  {
   "cell_type": "code",
   "execution_count": null,
   "id": "433c0de2",
   "metadata": {},
   "outputs": [],
   "source": []
  }
 ],
 "metadata": {
  "kernelspec": {
   "display_name": "Python 3 (ipykernel)",
   "language": "python",
   "name": "python3"
  },
  "language_info": {
   "codemirror_mode": {
    "name": "ipython",
    "version": 3
   },
   "file_extension": ".py",
   "mimetype": "text/x-python",
   "name": "python",
   "nbconvert_exporter": "python",
   "pygments_lexer": "ipython3",
   "version": "3.8.14"
  },
  "vscode": {
   "interpreter": {
    "hash": "7f8fd8b98f309d5d1950cbdf97997d24b6bd9f30c43610863edda95af0e19220"
   }
  }
 },
 "nbformat": 4,
 "nbformat_minor": 5
}
