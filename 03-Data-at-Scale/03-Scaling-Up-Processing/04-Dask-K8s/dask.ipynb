{
 "cells": [
  {
   "cell_type": "markdown",
   "id": "1eeb4659",
   "metadata": {},
   "source": [
    "# K8s Dask notebook"
   ]
  },
  {
   "cell_type": "markdown",
   "id": "7f8035fd",
   "metadata": {},
   "source": [
    "# 1️⃣ Import and access the cluster"
   ]
  },
  {
   "cell_type": "code",
   "execution_count": 1,
   "id": "8d3bf668",
   "metadata": {},
   "outputs": [],
   "source": [
    "from dask_kubernetes import HelmCluster\n",
    "cluster = HelmCluster(release_name=\"mydask\")\n",
    "cluster"
   ]
  },
  {
   "cell_type": "markdown",
   "id": "3c21e508",
   "metadata": {},
   "source": [
    "☝️ Look at how much RAM and Thread you have access to! 🏋️‍♀️"
   ]
  },
  {
   "cell_type": "markdown",
   "id": "1b3cd985",
   "metadata": {},
   "source": [
    "# 2️⃣ Plug the cluster to the client"
   ]
  },
  {
   "cell_type": "markdown",
   "id": "5eaa9554",
   "metadata": {},
   "source": [
    "Run the code below 👇 to add the **cluster** to the client. You will see some warnings about mismatched versions ⚠️. This is okay provided that it is not a library we are trying to use when we distribute our code!"
   ]
  },
  {
   "cell_type": "code",
   "execution_count": 2,
   "id": "bc1498a5",
   "metadata": {},
   "outputs": [],
   "source": [
    "from dask.distributed import Client\n",
    "\n",
    "client = Client(cluster)"
   ]
  },
  {
   "cell_type": "markdown",
   "id": "e86c650d",
   "metadata": {},
   "source": [
    "### 🧪 Testing our cluster"
   ]
  },
  {
   "cell_type": "markdown",
   "id": "3ff3e04c",
   "metadata": {},
   "source": [
    "You can even scale the number of worker pods from inside dask!\n",
    "\n",
    "Let's start by scaling the cluster down to **1**"
   ]
  },
  {
   "cell_type": "code",
   "execution_count": 3,
   "id": "70ee0e26",
   "metadata": {},
   "outputs": [],
   "source": [
    "cluster.scale(1)"
   ]
  },
  {
   "cell_type": "markdown",
   "id": "854aa5c3",
   "metadata": {},
   "source": [
    "Run this random super-heavy computation on dataframe of size **2.5 billion** and check your Status on Dask dashboard!"
   ]
  },
  {
   "cell_type": "code",
   "execution_count": 6,
   "id": "fb0b8567",
   "metadata": {},
   "outputs": [],
   "source": [
    "%%time\n",
    "import dask.array as da\n",
    "\n",
    "axis_size = 50_000\n",
    "chunk = 5_000\n",
    "\n",
    "x = da.random.random((axis_size, axis_size), chunks=(chunk, chunk))\n",
    "y = x + x.T\n",
    "z = y[::2, axis_size/2:].mean(axis=1)\n",
    "\n",
    "z.compute()"
   ]
  },
  {
   "cell_type": "markdown",
   "id": "217dcf1f",
   "metadata": {},
   "source": [
    "☝️ You should see 3 thread running in parallel on your dashboard !"
   ]
  },
  {
   "cell_type": "code",
   "execution_count": 7,
   "id": "50a0ae9b",
   "metadata": {},
   "outputs": [],
   "source": [
    "# Now let's increase it to its max level (6), then re-run cell above!\n",
    "cluster.scale(6)"
   ]
  },
  {
   "cell_type": "markdown",
   "id": "a325d217",
   "metadata": {},
   "source": [
    "☝️ 18 thread should run in parallel to accelerate this CPU-bound task!"
   ]
  },
  {
   "cell_type": "markdown",
   "id": "da39a9f9",
   "metadata": {},
   "source": [
    "# 3️⃣ Utilising our power for real use case💪"
   ]
  },
  {
   "cell_type": "markdown",
   "id": "41c886eb",
   "metadata": {},
   "source": [
    "🎯 Our goal is to get all of the summary statistics (means, std...) from the yellow taxi dataset, for the two years `2020-2021`. \n",
    "\n",
    "This real dataset comprises of `60` million rows, each with `19` columns!\n",
    "\n",
    "It is split in `24` monthly parquet files"
   ]
  },
  {
   "cell_type": "markdown",
   "id": "9a4d5865",
   "metadata": {},
   "source": [
    "## 3.1) One file / one month"
   ]
  },
  {
   "cell_type": "code",
   "execution_count": 3,
   "id": "afc54932",
   "metadata": {},
   "outputs": [],
   "source": [
    "import pandas as pd"
   ]
  },
  {
   "cell_type": "code",
   "execution_count": 4,
   "id": "cac2ab86",
   "metadata": {},
   "outputs": [],
   "source": [
    "%%time\n",
    "df = pd.read_parquet(\"https://d37ci6vzurychx.cloudfront.net/trip-data/yellow_tripdata_2022-01.parquet\")"
   ]
  },
  {
   "cell_type": "code",
   "execution_count": 5,
   "id": "e8309839",
   "metadata": {},
   "outputs": [],
   "source": [
    "df"
   ]
  },
  {
   "cell_type": "code",
   "execution_count": 6,
   "id": "48ed64b5",
   "metadata": {},
   "outputs": [],
   "source": [
    "%%time\n",
    "description = df.describe()"
   ]
  },
  {
   "cell_type": "code",
   "execution_count": 7,
   "id": "c9fefd95",
   "metadata": {},
   "outputs": [],
   "source": [
    "round(description, 2)"
   ]
  },
  {
   "cell_type": "markdown",
   "id": "a870fdbc",
   "metadata": {},
   "source": [
    "## 3.2) 24 months at once"
   ]
  },
  {
   "cell_type": "markdown",
   "id": "6f2a0892",
   "metadata": {},
   "source": [
    "Now you can see how long it takes us to access one of the **twenty four** parquet files we need!"
   ]
  },
  {
   "cell_type": "markdown",
   "id": "f3e20cc7",
   "metadata": {},
   "source": [
    "### 3.2.1) Pure pandas"
   ]
  },
  {
   "cell_type": "markdown",
   "id": "14d4c070",
   "metadata": {},
   "source": [
    "Here is the code we used for **naive** pandas version. "
   ]
  },
  {
   "cell_type": "code",
   "execution_count": 18,
   "id": "bd1814c8",
   "metadata": {},
   "outputs": [],
   "source": [
    "monthly_statistics = []"
   ]
  },
  {
   "cell_type": "code",
   "execution_count": 19,
   "id": "78f9be2e",
   "metadata": {},
   "outputs": [],
   "source": [
    "%%time \n",
    "for i in range(1,13):\n",
    "    if i < 10:\n",
    "        i = f\"0{i}\"\n",
    "    print(f\"downloading 2020-{i}...\")\n",
    "    df = pd.read_parquet(f\"https://d37ci6vzurychx.cloudfront.net/trip-data/yellow_tripdata_2020-{i}.parquet\")\n",
    "    monthly_statistics.append(df.describe())\n",
    "    print(f\"downloading 2021-{i}...\")\n",
    "    df = pd.read_parquet(f\"https://d37ci6vzurychx.cloudfront.net/trip-data/yellow_tripdata_2021-{i}.parquet\")\n",
    "    monthly_statistics.append(df.describe())"
   ]
  },
  {
   "cell_type": "code",
   "execution_count": 26,
   "id": "294dc94f",
   "metadata": {},
   "outputs": [],
   "source": [
    "# We computed our 24 statistics in a single thread...but it took ages!\n",
    "len(monthly_statistics)"
   ]
  },
  {
   "cell_type": "markdown",
   "id": "b6d2541b",
   "metadata": {},
   "source": [
    "Computing 2-year averages is now very quick"
   ]
  },
  {
   "cell_type": "code",
   "execution_count": 26,
   "id": "e738a9b7",
   "metadata": {},
   "outputs": [],
   "source": [
    "%%time\n",
    "global_means = sum([statistic.loc[\"mean\",:] for statistic in monthly_statistics])/len(monthly_statistics)\n",
    "global_means"
   ]
  },
  {
   "cell_type": "markdown",
   "id": "aafbf7af",
   "metadata": {},
   "source": [
    "### 3.2.3) DASK 💪"
   ]
  },
  {
   "cell_type": "code",
   "execution_count": 8,
   "id": "04d68e25",
   "metadata": {},
   "outputs": [],
   "source": [
    "import pandas as pd\n",
    "import dask"
   ]
  },
  {
   "cell_type": "markdown",
   "id": "3ae582b2",
   "metadata": {},
   "source": [
    "Then we decorate the functions we want to distrbute with `@dask.delayed`, here we have created two seperate tasks to help you distinguish them on the dashboard!"
   ]
  },
  {
   "cell_type": "code",
   "execution_count": 21,
   "id": "48e1a3e4",
   "metadata": {},
   "outputs": [],
   "source": [
    "@dask.delayed\n",
    "def twenty_twenty_monthly_describe(i: int):\n",
    "    if i < 10:\n",
    "        i = f\"0{i}\"\n",
    "    df = pd.read_parquet(f\"https://d37ci6vzurychx.cloudfront.net/trip-data/yellow_tripdata_2020-{i}.parquet\")\n",
    "    return df.describe()\n",
    "\n",
    "@dask.delayed\n",
    "def twenty_twenty_one_monthly_describe(i: int):\n",
    "    if i < 10:\n",
    "        i = f\"0{i}\"\n",
    "    df = pd.read_parquet(f\"https://d37ci6vzurychx.cloudfront.net/trip-data/yellow_tripdata_2021-{i}.parquet\")\n",
    "    return df.describe()"
   ]
  },
  {
   "cell_type": "markdown",
   "id": "0f49d939",
   "metadata": {},
   "source": [
    "We then create a similar list of 24 monthly description"
   ]
  },
  {
   "cell_type": "code",
   "execution_count": 22,
   "id": "3bb335e1",
   "metadata": {},
   "outputs": [],
   "source": [
    "monthly_data = []\n",
    "\n",
    "for i in range(1,13):\n",
    "    monthly_data.append(twenty_twenty_monthly_describe(i))\n",
    "    monthly_data.append(twenty_twenty_one_monthly_describe(i))"
   ]
  },
  {
   "cell_type": "code",
   "execution_count": 23,
   "id": "5d24a3d0",
   "metadata": {},
   "outputs": [],
   "source": [
    "monthly_data"
   ]
  },
  {
   "cell_type": "markdown",
   "id": "723b950c",
   "metadata": {},
   "source": [
    "☝️ They are all these delayed objects, **dask** is lazy until we call **compute()** and then works out the result of these objects!"
   ]
  },
  {
   "cell_type": "markdown",
   "id": "3a60f10a",
   "metadata": {},
   "source": [
    "👉 Run this and watch the dashboard and see dask tear through this task!"
   ]
  },
  {
   "cell_type": "code",
   "execution_count": 32,
   "id": "5e897284",
   "metadata": {},
   "outputs": [],
   "source": [
    "%%time\n",
    "monthly_statistics = dask.compute(monthly_data)[0][0]"
   ]
  },
  {
   "cell_type": "code",
   "execution_count": 35,
   "id": "62af167d",
   "metadata": {},
   "outputs": [],
   "source": [
    "len(monthly_statistics)"
   ]
  },
  {
   "cell_type": "code",
   "execution_count": 36,
   "id": "44af84fa",
   "metadata": {},
   "outputs": [],
   "source": [
    "%%time\n",
    "global_means = sum([statistic.loc[\"mean\",:] for statistic in monthly_statistics])/len(monthly_statistics)\n",
    "global_means"
   ]
  },
  {
   "cell_type": "markdown",
   "id": "2a0f0977",
   "metadata": {},
   "source": [
    "❓ **Dig inside one specific task profile, and try to figure out the share of time spend on I/O tasks (downloading parquets) vs. CPU tasks**"
   ]
  },
  {
   "cell_type": "markdown",
   "id": "c30c09bf",
   "metadata": {},
   "source": [
    "<img src=\"https://wagon-public-datasets.s3.amazonaws.com/data-engineering/W3D3-processing/dask/task-dashboard.png\">"
   ]
  },
  {
   "cell_type": "markdown",
   "id": "b2e1b31d",
   "metadata": {},
   "source": [
    "# 🚨 If you want to delete your cluster now"
   ]
  },
  {
   "cell_type": "markdown",
   "id": "16c2f114",
   "metadata": {},
   "source": [
    "```bash\n",
    "gcloud container clusters delete mydaskcluster --zone=europe-west-1b\n",
    "```"
   ]
  },
  {
   "cell_type": "markdown",
   "id": "6b0590dd",
   "metadata": {},
   "source": [
    "### Otherwise, you can play with other Dask-made introduction notebooks by following step 4️⃣ in the README.md"
   ]
  }
 ],
 "metadata": {
  "kernelspec": {
   "display_name": "Python 3 (ipykernel)",
   "language": "python",
   "name": "python3"
  },
  "language_info": {
   "codemirror_mode": {
    "name": "ipython",
    "version": 3
   },
   "file_extension": ".py",
   "mimetype": "text/x-python",
   "name": "python",
   "nbconvert_exporter": "python",
   "pygments_lexer": "ipython3",
   "version": "3.8.14"
  }
 },
 "nbformat": 4,
 "nbformat_minor": 5
}
