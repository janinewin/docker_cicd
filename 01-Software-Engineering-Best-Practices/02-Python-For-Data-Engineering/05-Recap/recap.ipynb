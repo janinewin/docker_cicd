{
 "cells": [
  {
   "cell_type": "markdown",
   "metadata": {},
   "source": [
    "### Slots"
   ]
  },
  {
   "cell_type": "markdown",
   "metadata": {},
   "source": [
    "__slots__ in Python constrains object attributes to a fixed set, eliminating the memory overhead associated with the dynamic per-instance __dict__. This leads to more memory-efficient storage of objects. In a data engineering context, where you often work with large data sets or many instances of custom classes, using __slots__ can significantly reduce memory footprint and improve performance during data transformations and manipulations."
   ]
  },
  {
   "cell_type": "code",
   "execution_count": 5,
   "metadata": {},
   "outputs": [],
   "source": [
    "from pympler import asizeof\n",
    "\n",
    "class WithoutSlots:\n",
    "    def __init__(self, name, age):\n",
    "        self.name = name\n",
    "        self.age = age\n",
    "\n",
    "class WithSlots:\n",
    "    __slots__ = ['name', 'age']\n",
    "    def __init__(self, name, age):\n",
    "        self.name = name\n",
    "        self.age = age\n",
    "\n",
    "obj1 = WithoutSlots('Alice', 30)\n",
    "obj2 = WithSlots('Bob', 40)\n",
    "\n",
    "print(f\"Size without slots: {asizeof.asizeof(obj1)} bytes\")\n",
    "print(f\"Size with slots: {asizeof.asizeof(obj2)} bytes\")\n"
   ]
  },
  {
   "cell_type": "markdown",
   "metadata": {},
   "source": [
    "### Generator Expressions"
   ]
  },
  {
   "cell_type": "markdown",
   "metadata": {},
   "source": [
    "Generator expressions provide a memory-efficient way to handle large data sets by yielding items one at a time, instead of loading all into memory. In data engineering, this is useful for streaming and transforming large data files or query results."
   ]
  },
  {
   "cell_type": "code",
   "execution_count": 8,
   "metadata": {},
   "outputs": [],
   "source": [
    "gen_exp = (x**2 for x in range(10))\n",
    "for val in gen_exp:\n",
    "    print(val) "
   ]
  },
  {
   "cell_type": "markdown",
   "metadata": {},
   "source": [
    "### Walrus operator"
   ]
  },
  {
   "cell_type": "markdown",
   "metadata": {},
   "source": [
    "The Walrus Operator := allows you to both assign a value to a variable and evaluate it in a single expression. In data engineering tasks like data filtering or transformation, this can reduce redundant calculations, making code more efficient."
   ]
  },
  {
   "cell_type": "code",
   "execution_count": 29,
   "metadata": {},
   "outputs": [],
   "source": [
    "square = 0"
   ]
  },
  {
   "cell_type": "code",
   "execution_count": 30,
   "metadata": {},
   "outputs": [],
   "source": [
    "filtered_data = [(n, square := n ** 2) for n in range(10)]\n",
    "filtered_data"
   ]
  },
  {
   "cell_type": "code",
   "execution_count": 31,
   "metadata": {},
   "outputs": [],
   "source": [
    "square"
   ]
  },
  {
   "cell_type": "markdown",
   "metadata": {},
   "source": [
    "### Custom context managers "
   ]
  },
  {
   "cell_type": "markdown",
   "metadata": {},
   "source": [
    "Custom context managers help in abstracting setup and teardown activities, making the code more readable and maintainable. In data engineering, they can manage database connections, temporary files, or other resources efficiently."
   ]
  },
  {
   "cell_type": "code",
   "execution_count": 34,
   "metadata": {
    "scrolled": true
   },
   "outputs": [],
   "source": [
    "from contextlib import contextmanager\n",
    "\n",
    "@contextmanager\n",
    "def managed_resource():\n",
    "    print(\"Setup\")\n",
    "    yield \n",
    "    print(\"Teardown\")\n",
    "\n",
    "with managed_resource():\n",
    "    print(\"Do work\")  # Setup -> Do work -> Teardown"
   ]
  },
  {
   "cell_type": "markdown",
   "metadata": {},
   "source": [
    "### `__repr__` Method\n",
    "\n",
    "The `__repr__` method should return a string that, when passed to `eval()`, would create an object with the same internal state as the original object. It's mainly intended for debugging and development."
   ]
  },
  {
   "cell_type": "code",
   "execution_count": 35,
   "metadata": {},
   "outputs": [],
   "source": [
    "\n",
    "class Point:\n",
    "    def __init__(self, x, y):\n",
    "        self.x = x\n",
    "        self.y = y\n",
    "\n",
    "    def __repr__(self):\n",
    "        return f\"Point({self.x}, {self.y})\"\n",
    "\n",
    "p = Point(2, 3)\n",
    "print(repr(p))"
   ]
  },
  {
   "cell_type": "markdown",
   "metadata": {},
   "source": [
    "### `__str__` Method\n",
    "\n",
    "The `__str__` method returns a string that provides an \"informal\" or nicely printable representation of the object. This makes the object's printout more human-readable."
   ]
  },
  {
   "cell_type": "markdown",
   "metadata": {},
   "source": [
    "```python\n",
    "class Point:\n",
    "    def __init__(self, x, y):\n",
    "        self.x = x\n",
    "        self.y = y\n",
    "\n",
    "    def __repr__(self):\n",
    "        return f\"Point({self.x}, {self.y})\"\n",
    "\n",
    "    def __str__(self):\n",
    "        return f\"A point at ({self.x}, {self.y})\"\n",
    "\n",
    "p = Point(2, 3)\n",
    "print(str(p)) "
   ]
  },
  {
   "cell_type": "markdown",
   "metadata": {
    "scrolled": true
   },
   "source": [
    "### `defaultdict`"
   ]
  },
  {
   "cell_type": "markdown",
   "metadata": {
    "scrolled": true
   },
   "source": [
    "`defaultdict` is a subclass of Python's `dict` that returns default values for missing keys. In data engineering, this is useful for building frequency counters, group-by operations, or adjacency lists, where the structure of the dictionary needs to be dynamic."
   ]
  },
  {
   "cell_type": "code",
   "execution_count": 40,
   "metadata": {
    "scrolled": true
   },
   "outputs": [],
   "source": [
    "from collections import defaultdict\n",
    "\n",
    "dd = defaultdict(list)\n",
    "dd['key1'].append(1)\n",
    "dd['key2'].append(2)\n",
    "print(dd)"
   ]
  },
  {
   "cell_type": "markdown",
   "metadata": {
    "scrolled": true
   },
   "source": [
    "### Decorators"
   ]
  },
  {
   "cell_type": "markdown",
   "metadata": {
    "scrolled": true
   },
   "source": [
    "Decorators modify or extend the behavior of functions or methods without changing their code. In data engineering, decorators can be used for logging, memoization, or access control."
   ]
  },
  {
   "cell_type": "code",
   "execution_count": 42,
   "metadata": {
    "scrolled": true
   },
   "outputs": [],
   "source": [
    "def logger(func):\n",
    "    def wrapper(*args, **kwargs):\n",
    "        print(f\"Calling {func.__name__}\")\n",
    "        return func(*args, **kwargs)\n",
    "    return wrapper\n",
    "\n",
    "@logger\n",
    "def add(a, b):\n",
    "    return a + b\n",
    "\n",
    "add(1, 2)"
   ]
  },
  {
   "cell_type": "markdown",
   "metadata": {
    "scrolled": true
   },
   "source": [
    "### Decorators with Arguments"
   ]
  },
  {
   "cell_type": "markdown",
   "metadata": {
    "scrolled": true
   },
   "source": [
    "Decorators with arguments allow you to pass extra information to your decorator, making them more flexible. This is useful in data engineering for dynamically setting behaviors like caching policies or operation modes."
   ]
  },
  {
   "cell_type": "code",
   "execution_count": 44,
   "metadata": {
    "scrolled": true
   },
   "outputs": [],
   "source": [
    "def multiplier(factor):\n",
    "    def decorator(func):\n",
    "        def wrapper(*args, **kwargs):\n",
    "            return func(*args, **kwargs) * factor\n",
    "        return wrapper\n",
    "    return decorator\n",
    "\n",
    "@multiplier(4)\n",
    "def add(a, b):\n",
    "    return a + b\n",
    "\n",
    "print(add(1, 2))  "
   ]
  },
  {
   "cell_type": "markdown",
   "metadata": {},
   "source": [
    "### Data Classes"
   ]
  },
  {
   "cell_type": "markdown",
   "metadata": {},
   "source": [
    "Data classes in Python automatically generate special methods like `__init__`, `__repr__`, and `__eq__`. They make it easier to create classes for storing data. In data engineering, this simplifies the definition of complex data structures."
   ]
  },
  {
   "cell_type": "code",
   "execution_count": 46,
   "metadata": {},
   "outputs": [],
   "source": [
    "from dataclasses import dataclass\n",
    "\n",
    "@dataclass\n",
    "class DataPoint:\n",
    "    x: int\n",
    "    y: int\n",
    "\n",
    "dp = DataPoint(1, 2)\n",
    "print(dp) "
   ]
  },
  {
   "cell_type": "markdown",
   "metadata": {},
   "source": [
    "### Abstract Base Classes (ABCs)"
   ]
  },
  {
   "cell_type": "markdown",
   "metadata": {},
   "source": [
    "Abstract Base Classes define a set of methods and properties that a class must implement, but don't provide implementations. They allow you to set up a blueprint for other classes, ensuring a consistent interface. In data engineering, they can be used to define interfaces for plug-and-play components in a pipeline."
   ]
  },
  {
   "cell_type": "code",
   "execution_count": null,
   "metadata": {},
   "outputs": [],
   "source": [
    "# Code Block\n",
    "from abc import ABC, abstractmethod\n",
    "\n",
    "class DataProcessor(ABC):\n",
    "    @abstractmethod\n",
    "    def process(self, data):\n",
    "        pass\n",
    "\n",
    "class MyProcessor(DataProcessor):\n",
    "    pass\n",
    "    # def process(self, data):\n",
    "    #     print(f\"Processing {data}\")\n",
    "\n",
    "processor = MyProcessor()\n",
    "processor.process(\"some data\")  # Output: Processing some data\n",
    "\n",
    "Data classes make it easier to manage data in a structured form, while ABCs ensure that certain classes adhere to a specific contract, making your data engineering pipelines more modular and easier to understand."
   ]
  }
 ],
 "metadata": {
  "kernelspec": {
   "display_name": "Python 3 (ipykernel)",
   "language": "python",
   "name": "python3"
  },
  "language_info": {
   "codemirror_mode": {
    "name": "ipython",
    "version": 3
   },
   "file_extension": ".py",
   "mimetype": "text/x-python",
   "name": "python",
   "nbconvert_exporter": "python",
   "pygments_lexer": "ipython3",
   "version": "3.8.14"
  }
 },
 "nbformat": 4,
 "nbformat_minor": 4
}
